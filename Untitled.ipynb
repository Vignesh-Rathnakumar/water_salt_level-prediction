{
 "cells": [
  {
   "cell_type": "code",
   "execution_count": 1,
   "id": "24bcd25d",
   "metadata": {},
   "outputs": [
    {
     "name": "stdout",
     "output_type": "stream",
     "text": [
      "✅ Data loaded successfully!\n",
      "Shape: (100000, 24)\n",
      "Columns: ['Index', 'pH', 'Iron', 'Nitrate', 'Chloride', 'Lead', 'Zinc', 'Color', 'Turbidity', 'Fluoride', 'Copper', 'Odor', 'Sulfate', 'Conductivity', 'Chlorine', 'Manganese', 'Total Dissolved Solids', 'Source', 'Water Temperature', 'Air Temperature', 'Month', 'Day', 'Time of Day', 'Target']\n",
      "\n",
      "✅ Model trained successfully!\n",
      "📊 R² Score on test data: 0.6788\n",
      "\n",
      "📁 Model files saved inside 'model/' folder.\n"
     ]
    }
   ],
   "source": [
    "# ====================================\n",
    "# ✅ FULL WATER QUALITY MODEL TRAINING\n",
    "# ====================================\n",
    "\n",
    "# Step 1: Install dependencies\n",
    "!pip install -q numpy pandas scikit-learn==1.3.2 joblib\n",
    "\n",
    "# Step 2: Import libraries\n",
    "import pandas as pd\n",
    "import numpy as np\n",
    "from sklearn.model_selection import train_test_split\n",
    "from sklearn.preprocessing import StandardScaler\n",
    "from sklearn.ensemble import RandomForestRegressor\n",
    "import joblib, os\n",
    "\n",
    "# Step 3: Load dataset\n",
    "df = pd.read_csv(\"/Users/viki/Desktop/waterrrrrrrrr/balanced_dataset.csv\")\n",
    "\n",
    "print(\"✅ Data loaded successfully!\")\n",
    "print(\"Shape:\", df.shape)\n",
    "print(\"Columns:\", df.columns.tolist())\n",
    "\n",
    "# Step 4: Clean dataset\n",
    "df = df.drop(columns=[\"Index\"], errors=\"ignore\")\n",
    "df = df.dropna()\n",
    "\n",
    "# Step 5: Encode non-numeric columns\n",
    "for col in df.columns:\n",
    "    if df[col].dtype == \"object\":\n",
    "        df[col] = df[col].astype(\"category\").cat.codes\n",
    "\n",
    "# Step 6: Define features and target\n",
    "if \"Target\" not in df.columns:\n",
    "    raise KeyError(\"❌ 'Target' column not found. Please check your CSV column names.\")\n",
    "\n",
    "X = df.drop(columns=[\"Target\"])\n",
    "y = df[\"Target\"]\n",
    "\n",
    "# Step 7: Split data\n",
    "X_train, X_test, y_train, y_test = train_test_split(X, y, test_size=0.2, random_state=42)\n",
    "\n",
    "# Step 8: Scale features\n",
    "scaler = StandardScaler()\n",
    "X_train_scaled = scaler.fit_transform(X_train)\n",
    "X_test_scaled = scaler.transform(X_test)\n",
    "\n",
    "# Step 9: Train model\n",
    "model = RandomForestRegressor(n_estimators=200, random_state=42)\n",
    "model.fit(X_train_scaled, y_train)\n",
    "\n",
    "# Step 10: Evaluate model\n",
    "r2 = model.score(X_test_scaled, y_test)\n",
    "print(f\"\\n✅ Model trained successfully!\")\n",
    "print(f\"📊 R² Score on test data: {r2:.4f}\")\n",
    "\n",
    "# Step 11: Save model and scaler\n",
    "os.makedirs(\"model\", exist_ok=True)\n",
    "joblib.dump(model, \"model/salt_model.pkl\")\n",
    "joblib.dump(scaler, \"model/scaler.pkl\")\n",
    "joblib.dump(X.columns.tolist(), \"model/feature_names.pkl\")\n",
    "\n",
    "print(\"\\n📁 Model files saved inside 'model/' folder.\")\n"
   ]
  },
  {
   "cell_type": "code",
   "execution_count": null,
   "id": "5253ae19",
   "metadata": {},
   "outputs": [],
   "source": []
  }
 ],
 "metadata": {
  "kernelspec": {
   "display_name": "Python 3 (ipykernel)",
   "language": "python",
   "name": "python3"
  },
  "language_info": {
   "codemirror_mode": {
    "name": "ipython",
    "version": 3
   },
   "file_extension": ".py",
   "mimetype": "text/x-python",
   "name": "python",
   "nbconvert_exporter": "python",
   "pygments_lexer": "ipython3",
   "version": "3.11.5"
  }
 },
 "nbformat": 4,
 "nbformat_minor": 5
}
